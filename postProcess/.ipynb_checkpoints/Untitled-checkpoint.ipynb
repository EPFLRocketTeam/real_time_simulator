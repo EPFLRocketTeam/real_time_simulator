{
 "cells": [
  {
   "cell_type": "code",
   "execution_count": null,
   "id": "federal-smoke",
   "metadata": {},
   "outputs": [],
   "source": [
    "import rosbag\n",
    "bag = rosbag.Bag('../log/log_2021-01-23-21-17-14.bag')\n",
    "for topic, msg, t in bag.read_messages(topics=['rocket_state', 'control_pub']):\n",
    "    print(msg)\n",
    "bag.close()"
   ]
  }
 ],
 "metadata": {
  "kernelspec": {
   "display_name": "Python 3",
   "language": "python",
   "name": "python3"
  },
  "language_info": {
   "codemirror_mode": {
    "name": "ipython",
    "version": 3
   },
   "file_extension": ".py",
   "mimetype": "text/x-python",
   "name": "python",
   "nbconvert_exporter": "python",
   "pygments_lexer": "ipython3",
   "version": "3.6.9"
  }
 },
 "nbformat": 4,
 "nbformat_minor": 5
}
